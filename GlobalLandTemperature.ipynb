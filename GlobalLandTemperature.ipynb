{
 "cells": [
  {
   "cell_type": "markdown",
   "id": "832cf938-2a9d-475a-bdc0-4bce51cf8165",
   "metadata": {
    "jp-MarkdownHeadingCollapsed": true,
    "tags": []
   },
   "source": [
    "## 1. Global Land Temperature dataset\n",
    "### 1.1 Dataset Download\n",
    "The Global Land Temperature (GLT) dataset is a large collection of measurements actively maintained by Berkeley Earth.\n",
    "\n",
    "For the purpose of this laboratory you will work on a modified, smaller but dirtier, version of the original GLT dataset, to stress the importance of data preprocessing. More specifically, this didactic version contains the formatted output files of the major cities of the globe with monthly granularity. For the sake of simplicity, the analysis will range between almost two centuries (i.e. between the years 1817 and 2012).\n",
    "\n",
    "The dataset is composed of ∼200k rows corresponding to the measurements taken the first day of the month in a given city. Each measurement is then described by 7 values:\n",
    "- Date, when the measurement was taken\n",
    "- AverageTemperature\n",
    "- AverageTemperatureUncertainty\n",
    "- City, from which the measurement was taken\n",
    "- Country\n",
    "- Latitude\n",
    "- Longitude\n",
    "\n",
    "The dataset is available in CSV format. You can find it at the following URL\n",
    "https://raw.githubusercontent.com/dbdmg/data-science-lab/master/datasets/GLT_filtered.csv\n"
   ]
  },
  {
   "cell_type": "markdown",
   "id": "2acd3d32-f5b2-439d-844a-e92c44c95e4d",
   "metadata": {},
   "source": [
    "## 1.2. Exercises\n",
    "\n",
    "**1.** Load the Global Land Temperature dataset as a list of lists. Before starting, take a moment to better inspect the attributes you are going to work on. How many of them are nominal, how many continuous or discrete?"
   ]
  },
  {
   "cell_type": "code",
   "execution_count": 107,
   "id": "1cde6e78-624a-457f-b0d1-6040e2961bc6",
   "metadata": {},
   "outputs": [],
   "source": [
    "import csv"
   ]
  },
  {
   "cell_type": "code",
   "execution_count": 108,
   "id": "27429e48-91db-4dd9-b301-e0ac91d98d5f",
   "metadata": {},
   "outputs": [],
   "source": [
    "with open('GLT.csv','r') as file:\n",
    "    obj = csv.reader(file)\n",
    "    columns = next(obj)\n",
    "    data = [[] for i in columns]\n",
    "    length = len(data)\n",
    "    for x in obj:\n",
    "        for y in range(length):\n",
    "            if len(x) == length:\n",
    "                data[y].append(x[y])"
   ]
  },
  {
   "cell_type": "code",
   "execution_count": 109,
   "id": "9f0e13a0-c689-4c67-b0b4-0ed1a4aa02c9",
   "metadata": {
    "tags": []
   },
   "outputs": [
    {
     "name": "stdout",
     "output_type": "stream",
     "text": [
      "Date: 1931-05-01\n",
      "AverageTemperature: 20.849\n",
      "AverageTemperatureUncertainty: 0.25\n",
      "City: Alexandria\n",
      "Country: Egypt\n",
      "Latitude: 31.35N\n",
      "Longitude: 30.16E\n",
      "\n",
      "-City and Country is absolutely nominal\n",
      "-Latitude and Longitude can be considered as nomimal too\n",
      "if we do not any operation such as (<,>) (ordinal),\n",
      "(+,-) (interval) or (*,/) (ratio). If we do any,we can  \n",
      "class this variable based on the selection\n",
      "-Date is an interval attribute\n",
      "-AverageTemperature and AverageTemperatureUncertainty is continious ratio attributes\n"
     ]
    }
   ],
   "source": [
    "#in order to see the data example of 10000th index:\n",
    "for c in range(len(columns)):\n",
    "    print(f\"{columns[c]}: {data[c][10000]}\")\n",
    "print(\"\\n-City and Country is absolutely nominal\\n\"\n",
    "\"-Latitude and Longitude can be considered as nomimal too\\n\"\n",
    "\"if we do not any operation such as (<,>) (ordinal),\\n\"\n",
    "\"(+,-) (interval) or (*,/) (ratio). If we do any,we can  \\n\"\n",
    "\"class this variable based on the selection\\n\"\n",
    "\"-Date is an interval attribute\\n\"\n",
    "\"-AverageTemperature and AverageTemperatureUncertainty is continious ratio attributes\")\n",
    "\n"
   ]
  },
  {
   "cell_type": "markdown",
   "id": "ffb54c69-1f06-4c0a-8ac1-4459c0a9beb2",
   "metadata": {
    "tags": []
   },
   "source": [
    "**2.** Analyze the attribute AverageTemperature, which contains missing values. Fill any gap with the arithmetic mean among the closest antecedent and the closest successive measurements in time. Assume the following rules for edge cases:\n",
    "\n",
    "(**a**) it can happen that a missing value does not have a preceding (or successive) measurement.\n",
    "This happens when the missing value is the first (or last) value of the dataset. If this is the\n",
    "case, consider the missing value to be preceded (or followed) by a 0, then compute the mean\n",
    "accordingly.\n",
    "\n",
    "original_list = [ '', 5, 6, '' ]\n",
    "\n",
    "step_1 = [ 2.5, 5, 6, '' ] # (0 + 5) / 2\n",
    "\n",
    "step_2 = [ 2.5, 5, 6, 3 ] # (6 + 0) / 2\n",
    "\n",
    "(**b**) if there are consecutive missing values, just compute them in temporal order and use the newly\n",
    "inserted values to evaluate the following ones. Here it is an example with a simple list where\n",
    "both (a) and (b) rules have been applied:\n",
    "\n",
    "original_list = [ '', '', 24, 28.9 ]\n",
    "\n",
    "step_1 = [ 12, '', 24, 28.9 ] # (0 + 24) / 2\n",
    "\n",
    "step_2 = [ 12, 18, 24, 28.9 ] # (12 + 24) / 2\n"
   ]
  },
  {
   "cell_type": "code",
   "execution_count": 146,
   "id": "eb7827ab-403c-48ef-a7f6-6f894b951b6e",
   "metadata": {},
   "outputs": [
    {
     "name": "stdout",
     "output_type": "stream",
     "text": [
      "For AverageTemperature:\n",
      "Number of objects: 219575\n",
      "Number of 'empty objects: 27581'\n"
     ]
    }
   ],
   "source": [
    "i = columns.index('AverageTemperature')\n",
    "c = 0\n",
    "for x in range(len(data[i])):\n",
    "    if data[i][x] == '':\n",
    "        c+=1\n",
    "print(f\"For AverageTemperature:\\nNumber of objects: {len(data[i])}\\nNumber of 'empty objects: {c}'\")"
   ]
  },
  {
   "cell_type": "code",
   "execution_count": 147,
   "id": "bbcd2d68-1ad6-4e46-ae9b-cc77ff1b8ebd",
   "metadata": {},
   "outputs": [],
   "source": [
    "def missingValues(dataset,index):\n",
    "    step_1 = dataset[index]\n",
    "    for i in range(len(step_1)):\n",
    "        if step_1[i] == '':\n",
    "            try:\n",
    "                step_1[i] = (float(step_1[i-1])+float(step_1[i+1]))/2\n",
    "            except:\n",
    "                if i==0:\n",
    "                    control = i+1\n",
    "                    flag = 0\n",
    "                    while flag<1:\n",
    "                        if step_1[control] == '':\n",
    "                            control += 1\n",
    "                        else:\n",
    "                            step_1[i]= float(step_1[control])/2\n",
    "                            flag = 1\n",
    "                elif i == len(step_1)-1:\n",
    "                    control = i-1\n",
    "                    flag = 0\n",
    "                    while flag<1:\n",
    "                        if step_1[control] == '':\n",
    "                            control -= 1\n",
    "                        else:\n",
    "                            step_1[i]=float(step_1[control])/2\n",
    "                            flag = 1\n",
    "                else:\n",
    "                    csuc, cant = i+1, i-1\n",
    "                    flag1 = 0\n",
    "                    vsuc = 0\n",
    "                    while flag1<1:\n",
    "                        if csuc == len(step_1)-1 and step_1[csuc]=='':\n",
    "                            flag1=1\n",
    "                        elif step_1[csuc]=='':\n",
    "                            csuc +=1\n",
    "                        else:\n",
    "                            vsuc = step_1[csuc]\n",
    "                            flag1=1\n",
    "                    step_1[i] = (float(vsuc)+float(step_1[i-1]))/2\n",
    "    dataset[index]= step_1\n",
    "    return dataset"
   ]
  },
  {
   "cell_type": "code",
   "execution_count": 148,
   "id": "8004f983-a74a-4547-892e-08ed0a49258f",
   "metadata": {},
   "outputs": [],
   "source": [
    "fillData = missingValues(data,columns.index('AverageTemperature'))"
   ]
  },
  {
   "cell_type": "markdown",
   "id": "8954cbc8-ba8f-4513-9e87-54a7302c22af",
   "metadata": {},
   "source": [
    "**3.** Define a function that, given the name of a city and an integer N > 0, prints:\n",
    "\n",
    "(a) the top N hottest measurements;\n",
    "\n",
    "(b) the top N coldest measurements."
   ]
  },
  {
   "cell_type": "code",
   "execution_count": 170,
   "id": "225650ea-ae26-40ba-a6a7-dd65f38a37f7",
   "metadata": {},
   "outputs": [],
   "source": [
    "def hotColdN(fillData, city, N):\n",
    "    index = [round(float(data[1][y]),2) for y in [x for x in range(len(data[3])) if data[3][x]==city]]\n",
    "    ordered = sorted(index)\n",
    "    print(city)\n",
    "    print(\"Hottest measurements:\", ordered[-N:])\n",
    "    print(\"Coldest measurements:\", ordered[:N])\n",
    "    return ordered"
   ]
  },
  {
   "cell_type": "code",
   "execution_count": 171,
   "id": "4eb2ef6a-d6fb-4407-84e9-9f4b1b28ee2b",
   "metadata": {
    "tags": []
   },
   "outputs": [
    {
     "name": "stdout",
     "output_type": "stream",
     "text": [
      "Rome\n",
      "Hottest measurements: [24.48, 24.73, 24.87, 25.0, 25.95]\n",
      "Coldest measurements: [-1.44, -1.3, -1.02, -0.87, -0.78]\n",
      "Bangkok\n",
      "Hottest measurements: [87.71, 87.77, 87.84, 87.95, 88.01]\n",
      "Coldest measurements: [71.41, 71.47, 72.06, 72.15, 72.49]\n"
     ]
    }
   ],
   "source": [
    "rome = hotColdN(data,'Rome',5)\n",
    "bangkok = hotColdN(data,'Bangkok',5)"
   ]
  },
  {
   "cell_type": "markdown",
   "id": "16e20637-de56-475e-9033-f455b643fce6",
   "metadata": {},
   "source": [
    "**4.**(*) Let’s search for other anomalies in data distribution with the help of matplotlib. Plot the distribution of the average land temperatures for Rome and Bangkok using the aforementioned histogram plotting function.\n",
    "\n",
    "Info: calling the plt.hist() method twice will draw the second histogram onto the canvas\n",
    "generated by the first call.\n",
    "\n",
    "As you can see, Rome and Bangkok have very different temperature distributions, but this seems plausible. What it looks strange is the large difference in their temperatures’ magnitude. Is it possible that all sensors from Bangkok stations, along the entire time-span, were faulty? Could they were configured to use another representation of the temperature measurement? Can you figure out a data cleaning step to solve it?\n"
   ]
  },
  {
   "cell_type": "code",
   "execution_count": 191,
   "id": "098193de-d9d4-4b48-a3a3-9b0730b1cb62",
   "metadata": {
    "tags": []
   },
   "outputs": [],
   "source": [
    "import matplotlib.pyplot as plt\n",
    "%matplotlib inline"
   ]
  },
  {
   "cell_type": "code",
   "execution_count": 192,
   "id": "6a2a026f-729e-4dd7-b19d-5bf1e2b7f382",
   "metadata": {},
   "outputs": [
    {
     "data": {
      "text/plain": [
       "(array([  4.,   9.,  21.,  28.,  73.,  83., 124., 198., 110., 149., 196.,\n",
       "        219., 316., 280., 208., 149.,  82.,  59.,  28.,  16.]),\n",
       " array([71.41, 72.24, 73.07, 73.9 , 74.73, 75.56, 76.39, 77.22, 78.05,\n",
       "        78.88, 79.71, 80.54, 81.37, 82.2 , 83.03, 83.86, 84.69, 85.52,\n",
       "        86.35, 87.18, 88.01]),\n",
       " <BarContainer object of 20 artists>)"
      ]
     },
     "execution_count": 192,
     "metadata": {},
     "output_type": "execute_result"
    },
    {
     "data": {
      "image/png": "[encoded data removed]",
      "text/plain": [
       "<Figure size 640x480 with 1 Axes>"
      ]
     },
     "metadata": {},
     "output_type": "display_data"
    }
   ],
   "source": [
    "plt.hist(rome,bins=20,rwidth=0.8)\n",
    "plt.hist(bangkok,bins=20,rwidth=0.8)"
   ]
  },
  {
   "cell_type": "code",
   "execution_count": 193,
   "id": "1cb7f0ca-e4e8-4394-8e29-614368ce9cca",
   "metadata": {},
   "outputs": [],
   "source": [
    "#Although Rome seems plausible, Bangkok's min and max values are also irrational\n",
    "#There is no possibility of being faulty of all sensors during entire time-span in Bangkok\n",
    "#This values might be represented as another temperature measurement than Celsius\n",
    "#In order to solve this, a map function might be used to all measurements of Bangkok"
   ]
  },
  {
   "cell_type": "markdown",
   "id": "9fe87c43-1750-4866-8842-fb1883607152",
   "metadata": {},
   "source": [
    "**5.** (*) One might think that Bangkok sensor provide temperature samples in degrees Fahrenheit while the ones located in Rome use the Celsius notation, which is the common representation in the whole dataset. Write a function to transform Fahrenheit measurements back to Celsius, apply it to your data and plot the two distribution again.\n",
    "\n",
    "Info: remember that the mapping function from Celsius to Fahrenheit is the following\n",
    "\n",
    "TF = 1.8 · TC + 32\n"
   ]
  },
  {
   "cell_type": "code",
   "execution_count": 195,
   "id": "d504f866-44d1-49dc-9fb5-859ed1bcf93f",
   "metadata": {},
   "outputs": [],
   "source": [
    "bangkokC = list(map(lambda x: (x-32)/1.8,bangkok))"
   ]
  },
  {
   "cell_type": "code",
   "execution_count": 199,
   "id": "f4864fc7-98ed-4e66-81c9-2440a54c690c",
   "metadata": {
    "tags": []
   },
   "outputs": [
    {
     "data": {
      "text/plain": [
       "Text(0.5, 1.0, 'Rome and Bangkok Measurements')"
      ]
     },
     "execution_count": 199,
     "metadata": {},
     "output_type": "execute_result"
    },
    {
     "data": {
      "image/png": "[encoded data removed]",
      "text/plain": [
       "<Figure size 640x480 with 1 Axes>"
      ]
     },
     "metadata": {},
     "output_type": "display_data"
    }
   ],
   "source": [
    "plt.clf()\n",
    "plt.hist(bangkok,rwidth=0.8,label=\"Bangkok (Fahrenheit)\",alpha=0.9)\n",
    "plt.hist(bangkokC,rwidth=0.8,label=\"Bangkok (Celsius)\", alpha=0.9)\n",
    "plt.hist(rome,rwidth=0.8,label='Rome',alpha=0.9)\n",
    "plt.legend()\n",
    "plt.title('Rome and Bangkok Measurements')"
   ]
  }
 ],
 "metadata": {
  "kernelspec": {
   "display_name": "Python 3 (ipykernel)",
   "language": "python",
   "name": "python3"
  },
  "language_info": {
   "codemirror_mode": {
    "name": "ipython",
    "version": 3
   },
   "file_extension": ".py",
   "mimetype": "text/x-python",
   "name": "python",
   "nbconvert_exporter": "python",
   "pygments_lexer": "ipython3",
   "version": "3.9.7"
  }
 },
 "nbformat": 4,
 "nbformat_minor": 5
}
