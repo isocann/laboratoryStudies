{
 "cells": [
  {
   "cell_type": "markdown",
   "id": "9954383b-95c6-485b-896d-b54e8410bb36",
   "metadata": {
    "tags": []
   },
   "source": [
    "## 3. MNIST dataset\n",
    "### 3.1. Dataset Download\n",
    "MNIST\n",
    "The MNIST dataset is another particularly famous dataset. It contains several thousands of hand-written digits (0 to 9). Each hand-written digit is contained in a 28 × 28 8-bit grayscale image. This means that each digit has 784 (282\n",
    ") pixels, and each pixel has a value that ranges from 0 (black) to 255 (white). Figure 2 shows one such digit. The dataset can be downloaded from the following URL:\n",
    "https://raw.githubusercontent.com/dbdmg/data-science-lab/master/datasets/mnist_test.csv\n",
    "\n",
    "For each digit, 785 values are available: the first one is the numerical value depicted in the image (e.g. for Figure 2 it would be 5). The following 784 columns represent the grayscale image in row-major order. Keep in mind that, in this case, the digit label (i.e. the first column) is an integer from 0 to 9, while the following 784 values are integers between 0 and 255."
   ]
  },
  {
   "cell_type": "markdown",
   "id": "5708364c-d5ed-4378-b758-1154092e34a8",
   "metadata": {},
   "source": [
    "### 3.2. Exercises\n",
    "\n",
    "**1.** Load the previously downloaded MNIST dataset. You can make use of the csv module already presented."
   ]
  },
  {
   "cell_type": "code",
   "execution_count": 2,
   "id": "319e1459-8a45-4ad8-adbb-393ea98cc767",
   "metadata": {},
   "outputs": [],
   "source": [
    "import csv"
   ]
  },
  {
   "cell_type": "code",
   "execution_count": 3,
   "id": "5df17c8f-7157-4b09-9aa6-7429a34a83b1",
   "metadata": {},
   "outputs": [],
   "source": [
    "with open('mnist_test.csv','r') as file:\n",
    "    data = []\n",
    "    obj = csv.reader(file)\n",
    "    for o in obj:\n",
    "        data.append(o)"
   ]
  },
  {
   "cell_type": "code",
   "execution_count": 4,
   "id": "63929df6-681a-4ce2-af66-70f0edb15de7",
   "metadata": {
    "tags": []
   },
   "outputs": [
    {
     "name": "stdout",
     "output_type": "stream",
     "text": [
      "10000\n",
      "785\n"
     ]
    }
   ],
   "source": [
    "print(len(data))\n",
    "print(len(data[0]))"
   ]
  },
  {
   "cell_type": "markdown",
   "id": "0db157af-7015-4819-8224-5232db1b1deb",
   "metadata": {},
   "source": [
    "**2**. Create a function that, given a position 1 ≤ k ≤ 10, 000, prints the k\n",
    "th digit of the dataset (i.e. the\n",
    "k\n",
    "th row of the csv file) as a grid of 28 × 28 characters. More specifically, you should map each range\n",
    "of pixel values to the following characters:\n",
    "\n",
    "• [0, 64) → \" \"\n",
    "\n",
    "• [64, 128) → \".\"\n",
    "\n",
    "• [128, 192) → \"*\"\n",
    "\n",
    "• [192, 256) → \"#\""
   ]
  },
  {
   "cell_type": "code",
   "execution_count": 5,
   "id": "3a08f7ff-3baf-4be1-b575-5017eb5db673",
   "metadata": {},
   "outputs": [],
   "source": [
    "def positionPrint(dataset,k):\n",
    "    n = dataset[k][0]\n",
    "    a = dataset[k][1:]\n",
    "    newk = [[] for i in range(28)]\n",
    "    for ind in range(len(a)):\n",
    "        if int(a[ind])<64:\n",
    "            a[ind]=\" \"\n",
    "        elif int(a[ind])>=64 and int(a[ind])<128:\n",
    "            a[ind]=\".\"\n",
    "        elif int(a[ind])>=128 and int(a[ind])<192:\n",
    "            a[ind]=\"*\"\n",
    "        else:\n",
    "            a[ind]=\"#\"\n",
    "        quotient = ind//28\n",
    "        remainder = ind%28\n",
    "        newk[quotient].insert(remainder,a[ind])\n",
    "    for i in newk:\n",
    "        for j in range(len(i)):\n",
    "            print\n",
    "            if j<len(i)-1:\n",
    "                print(i[j],end='')\n",
    "            else:\n",
    "                print(i[j])"
   ]
  },
  {
   "cell_type": "code",
   "execution_count": 6,
   "id": "28b69863-06eb-420f-833a-952d69221de2",
   "metadata": {
    "tags": []
   },
   "outputs": [
    {
     "name": "stdout",
     "output_type": "stream",
     "text": [
      "                            \n",
      "                            \n",
      "                            \n",
      "                            \n",
      "                            \n",
      "              .#      **    \n",
      "             .##..*#####    \n",
      "            #########*.     \n",
      "           #####***.        \n",
      "          ##*               \n",
      "         *##                \n",
      "         ##                 \n",
      "        .##                 \n",
      "         ###*               \n",
      "         .#####.            \n",
      "            *###*           \n",
      "              *###*         \n",
      "                ###         \n",
      "                .##         \n",
      "                ###         \n",
      "              .###          \n",
      "        .    *###.          \n",
      "       .# .*###*            \n",
      "       .######.             \n",
      "        *##*.               \n",
      "                            \n",
      "                            \n",
      "                            \n"
     ]
    }
   ],
   "source": [
    "a = positionPrint(data,129)"
   ]
  },
  {
   "cell_type": "markdown",
   "id": "76964363-fcf0-4ae1-a558-82280481c178",
   "metadata": {},
   "source": [
    "**3.** Compute the Euclidean distance between each pair of the 784-dimensional vectors of the digits at the following positions: 26th, 30th, 32nd , 35th.\n"
   ]
  },
  {
   "cell_type": "code",
   "execution_count": 10,
   "id": "d2896b80-60d9-48c6-a155-6e0c7afd39b6",
   "metadata": {},
   "outputs": [],
   "source": [
    "def euclidean(x,y):\n",
    "    return sum([(int(a)-int(b))**2 for a,b in zip(x,y)])**0.5"
   ]
  },
  {
   "cell_type": "code",
   "execution_count": 20,
   "id": "ed2d4720-2b19-413d-889e-0043b0d014dd",
   "metadata": {
    "tags": []
   },
   "outputs": [
    {
     "name": "stdout",
     "output_type": "stream",
     "text": [
      "26 30 3539.22\n",
      "26 32 3556.42\n",
      "26 35 3223.21\n",
      "30 32 1171.83\n",
      "30 35 2531.01\n",
      "32 35 2515.57\n"
     ]
    }
   ],
   "source": [
    "positions = [26,30,32,35]\n",
    "for i in range(len(positions)):\n",
    "    for j in positions[(i+1):]:\n",
    "        print(positions[i],j, round(euclidean(data[positions[i]-1],data[j-1]),2))"
   ]
  },
  {
   "cell_type": "markdown",
   "id": "ae615d99-99f2-48ef-ae15-ff9aa9c2b1ba",
   "metadata": {},
   "source": [
    "**4.** (*) Based on the distances computed in the previous step and knowing that the digits listed in Exercise 3 are (not necessarily in this order) 7, 0, 1, 1, can you assign the correct label to each of the digits of Exercise 3?"
   ]
  },
  {
   "cell_type": "markdown",
   "id": "6febdae4-77cb-456f-a3e6-c775d7f1f9ce",
   "metadata": {
    "tags": []
   },
   "source": [
    "These numbers are coded with numbers based on black&white pixels of the image as explained\n",
    "in the dataset. Therefore, when we calculate the distance between points, we also calculated\n",
    "their similarities. When they have larger similarity, their distance should be less since\n",
    "the numbered pixels might have similar values.\n",
    "\n",
    "From the Exercise 3, it can be seen that 30 and 32 have the minimum distance pair. Since we\n",
    "know that there are two 1, we can say that these numbers are most probably '1'.\n",
    "When we compare 7 and 0, 7 has more similarity to 1 as a shape. Therefore, the number which\n",
    "has less Euclidean distance to 30 and 32 is '7'. It can be seen that 35 has less distance \n",
    "than 26. So we can say that 35 is '7', and the remaining 26 is '0'\n",
    "\n",
    "26: 0\n",
    "\n",
    "30: 1\n",
    "\n",
    "32: 1\n",
    "\n",
    "35: 7"
   ]
  }
 ],
 "metadata": {
  "kernelspec": {
   "display_name": "Python 3 (ipykernel)",
   "language": "python",
   "name": "python3"
  },
  "language_info": {
   "codemirror_mode": {
    "name": "ipython",
    "version": 3
   },
   "file_extension": ".py",
   "mimetype": "text/x-python",
   "name": "python",
   "nbconvert_exporter": "python",
   "pygments_lexer": "ipython3",
   "version": "3.9.7"
  }
 },
 "nbformat": 4,
 "nbformat_minor": 5
}
