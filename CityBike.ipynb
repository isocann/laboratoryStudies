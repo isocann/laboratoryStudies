{
 "cells": [
  {
   "cell_type": "markdown",
   "id": "d690e132-2e5e-48af-8958-a7938124b5e6",
   "metadata": {
    "tags": []
   },
   "source": [
    "## 2. Citybik.es dataset\n",
    "### 2.1. Datasets Download\n",
    "Citybik.es is a website that offers an Application Programming Interface (or API, for short) for the usage of\n",
    "bike-sharing services throughout the world. Among the others, data for one of Turin’s bike sharing system\n",
    "([TO]Bike) is available. For [TO]Bike, the information available is at a “station” granularity. This means\n",
    "that all the data available regards the bike stations: some of the useful information available is the station\n",
    "name, its position (in terms of latitude and longitude), the number of available bikes and the number of\n",
    "free docks. The data is offered in near real-time (i.e. it is updated every 15-30 minutes).\n",
    "\n",
    "The API endpoint to request the data about for the [TO]Bike service is the following:\n",
    "\n",
    "http://api.citybik.es/v2/networks/to-bike\n",
    "\n",
    "You can either download the data from your browser, or using wget (as shown for the Iris dataset).\n",
    "\n",
    "This dataset is in the JSON (JavaScript Object Notation) format. This format allows storing complex data structure (i.e. not only tabular data). You can either store basic data types (strings, numbers, boolean) or lists of them (e.g. [0, true, \"test\"]) and dictionaries (e.g. { \"key1\": \"value1\",\n",
    "\"key2\": false, \"key3\": [3, 2, 1]}).\n",
    "\n",
    "Lists and dictionaries are the same ones found in Python (list and dict). As such, any JSON file can\n",
    "be loaded as a Python data structure (which can possibly be nested). To do that, a Python module called\n",
    "json is available. It can be used as follows:\n",
    "\n",
    "import json\n",
    "\n",
    "with open(\"file.json\") as f:\n",
    "\n",
    "    obj = json.load(f)\n",
    "    print(obj)\n",
    "In this example, the file file.json, which contains a JSON object, is opened (with open()) and read\n",
    "(with json.load()). The contents of the object are then stored into the obj variable.\n",
    "You can read more about JSON on Wikipedia.\n"
   ]
  },
  {
   "cell_type": "markdown",
   "id": "9c787085-4bbd-4b93-82a2-99446ce20f50",
   "metadata": {},
   "source": [
    "### 2.2. Exercises\n",
    "**1.** Load the previously downloaded Citybik.es dataset as a Python dictionary. You can make use of the\n",
    "json module presented. You can find the full documentation for the json module here. After the\n",
    "dictionary is loaded, explore its contents"
   ]
  },
  {
   "cell_type": "code",
   "execution_count": 1,
   "id": "b349216b-869f-4f8e-a27e-a7251342c280",
   "metadata": {},
   "outputs": [],
   "source": [
    "import json"
   ]
  },
  {
   "cell_type": "code",
   "execution_count": 2,
   "id": "40558da4-faa6-476b-bcad-4b8ed9b7d23d",
   "metadata": {
    "tags": []
   },
   "outputs": [
    {
     "name": "stdout",
     "output_type": "stream",
     "text": [
      "['network']\n",
      "['company', 'href', 'id', 'location', 'name', 'source', 'stations']\n",
      "---------------------------------\n",
      "-Type of data is <class 'list'>.\n",
      "-The list consists of <class 'dict'>.\n",
      "-Data consists of 145 different stations.\n",
      "---------------------------------\n",
      "empty_slots:15\n",
      "extra:{'number': 4, 'reviews': 340, 'score': 3.9, 'status': 'online', 'uid': '253'}\n",
      "free_bikes:2\n",
      "id:9f705b5e090de99e976f4ac6c6911571\n",
      "latitude:45.072882\n",
      "longitude:7.667951\n",
      "name:Porta Susa 1\n",
      "timestamp:2022-12-16T02:37:15.713000Z\n"
     ]
    }
   ],
   "source": [
    "with open('tobike.json','r') as file:\n",
    "    obj = json.load(file)\n",
    "print(list(obj.keys()))\n",
    "#we need to deep into one more level to understand the structure\n",
    "obj2 = obj[list(obj.keys())[0]]\n",
    "print(list(obj2.keys()))\n",
    "#now we can understand that we found the 'station' granularity.\n",
    "#our focus will be on 'station's. we get this value as our 'data' before continue\n",
    "data = obj2['stations']\n",
    "print(\"---------------------------------\")\n",
    "print(f\"-Type of data is {type(data)}.\")\n",
    "print(f\"-The list consists of {type(data[0])}.\")\n",
    "#we can see that all stations is collected as list of dictionaries.\n",
    "print(f\"-Data consists of {len(data)} different stations.\")\n",
    "print(\"---------------------------------\")\n",
    "#now explore the data inside of any station\n",
    "for k,v in zip(list(data[0].keys()),list(data[0].values())):\n",
    "    print(f\"{k}:{v}\")\n",
    "#some keys has integer values such as empty_slots, free_bikes\n",
    "#id and name keys have string values\n",
    "#latitude and longitude information is float value that shows the location\n",
    "#extra key contains this stations number, review, score, status and uid values\n",
    "#timestamp key shows the last update"
   ]
  },
  {
   "cell_type": "markdown",
   "id": "cdc6d430-fceb-4e97-83bd-d155bed4aec3",
   "metadata": {},
   "source": [
    "**2.** Count and print the number of active stations (a station is active if its extra.status field is \"online\")"
   ]
  },
  {
   "cell_type": "code",
   "execution_count": 7,
   "id": "22994652-eef7-498b-a5ec-819d95e870e0",
   "metadata": {
    "tags": []
   },
   "outputs": [
    {
     "name": "stdout",
     "output_type": "stream",
     "text": [
      "Number of active stations is 120\n"
     ]
    }
   ],
   "source": [
    "c = 0\n",
    "for l in data:\n",
    "    if l['extra']['status'] == 'online':\n",
    "        c += 1\n",
    "print(f\"Number of active stations is {c}\")"
   ]
  },
  {
   "cell_type": "markdown",
   "id": "45f5e7ac-65c2-44ad-a61f-9ec64ce15f22",
   "metadata": {},
   "source": [
    "**3.** Count and print the total number of bikes available (field free_bikes) and the number of free docks\n",
    "(field empty_slots) throughout all stations."
   ]
  },
  {
   "cell_type": "code",
   "execution_count": 10,
   "id": "ae50f565-9cd0-445c-b213-2b4b2c26dc57",
   "metadata": {
    "tags": []
   },
   "outputs": [
    {
     "name": "stdout",
     "output_type": "stream",
     "text": [
      "Number of free bikes is 220\n"
     ]
    }
   ],
   "source": [
    "c2 = 0\n",
    "for l in data:\n",
    "    c2 += l['free_bikes']\n",
    "print(f\"Number of free bikes is {c2}\")"
   ]
  },
  {
   "cell_type": "markdown",
   "id": "b6f223a5-4496-4610-8997-cdff0ca76a9e",
   "metadata": {
    "tags": []
   },
   "source": [
    "**4.** (*) Given the coordinates (latitude, longitude) of a point (e.g. 45.074512, 7.694419), identify the closest bike station to it that has available bikes. For computing the distance among two points (given their coordinates), you can use the function distance_coords() defined in the code snippet below (which is an implementation of the great-circle distance):"
   ]
  },
  {
   "cell_type": "markdown",
   "id": "812724c1-50d8-46f7-a4d0-4106e24e420a",
   "metadata": {
    "tags": []
   },
   "source": [
    "from math import cos, acos, sin\n",
    "\n",
    "def distance_coords(lat1, lng1, lat2, lng2):\n",
    "\n",
    "    \"\"\"Compute the distance among two points.\"\"\"\n",
    "    \n",
    "    deg2rad = lambda x: x * 3.141592 / 180\n",
    "    \n",
    "    lat1, lng1, lat2, lng2 = map(deg2rad, [ lat1, lng1, lat2, lng2 ])\n",
    "    \n",
    "    R = 6378100 # Radius of the Earth, in meters\n",
    "    \n",
    "    return R * acos(sin(lat1) * sin(lat2) + cos(lat1) * cos(lat2) * cos(lng1 - lng2))\n"
   ]
  },
  {
   "cell_type": "code",
   "execution_count": 11,
   "id": "d94f4c33-23a8-4b22-9355-3b414fecdc13",
   "metadata": {},
   "outputs": [],
   "source": [
    "from math import cos, acos, sin\n",
    "\n",
    "def distance_coords(lat1, lng1, lat2, lng2):\n",
    "    \"\"\"Compute the distance among two points.\"\"\"\n",
    "    deg2rad = lambda x: x * 3.141592 / 180\n",
    "    lat1, lng1, lat2, lng2 = map(deg2rad, [ lat1, lng1, lat2, lng2 ])\n",
    "    R = 6378100 # Radius of the Earth, in meters\n",
    "    return R * acos(sin(lat1) * sin(lat2) + cos(lat1) * cos(lat2) * cos(lng1 - lng2))"
   ]
  },
  {
   "cell_type": "code",
   "execution_count": 24,
   "id": "b38cf8dd-2abc-4ed7-b3f1-4dd520185007",
   "metadata": {
    "tags": []
   },
   "outputs": [
    {
     "name": "stdout",
     "output_type": "stream",
     "text": [
      "The ID of closest location with available bike is: 1916e772eb3e6c88b37a0f584da1e333\n",
      "The name is 'Regina Margherita 3' and there are 1 free bikes\n"
     ]
    }
   ],
   "source": [
    "x,y = 45.074512, 7.694419\n",
    "\n",
    "availableStations = []\n",
    "for l in data:\n",
    "    if l['free_bikes'] > 0:\n",
    "        availableStations.append(l)\n",
    "distances = []\n",
    "for k in availableStations:\n",
    "    distances.append(distance_coords(x,y,k['latitude'],k['longitude']))\n",
    "loc = availableStations[distances.index(min(distances))]\n",
    "print(f\"The ID of closest location with available bike is: {loc['id']}\")\n",
    "print(f\"The name is '{loc['name']}' and there are {loc['free_bikes']} free bikes\")"
   ]
  }
 ],
 "metadata": {
  "kernelspec": {
   "display_name": "Python 3 (ipykernel)",
   "language": "python",
   "name": "python3"
  },
  "language_info": {
   "codemirror_mode": {
    "name": "ipython",
    "version": 3
   },
   "file_extension": ".py",
   "mimetype": "text/x-python",
   "name": "python",
   "nbconvert_exporter": "python",
   "pygments_lexer": "ipython3",
   "version": "3.9.7"
  }
 },
 "nbformat": 4,
 "nbformat_minor": 5
}
