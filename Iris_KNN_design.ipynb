{
 "cells": [
  {
   "cell_type": "markdown",
   "id": "ecd4c199-55e0-4c97-a193-16bfd1c3797a",
   "metadata": {
    "tags": []
   },
   "source": [
    "# Lab #4\n",
    "\n",
    "## Introduction\n",
    "\n",
    "In this laboratory, you will build your own version of the K-Nearest Neighbors algorithm (a.k.a. KNN) using the NumPy library.\n",
    "\n",
    "For this lab, you will need two the dataset: Iris \n",
    "\n",
    "Iris. You can download it from:\n",
    "- https://archive.ics.uci.edu/ml/machine-learning-databases/iris/iris.data\n"
   ]
  },
  {
   "cell_type": "markdown",
   "id": "6ed2f727-b104-4f70-920a-a9c2229597c1",
   "metadata": {},
   "source": [
    "## Exercises\n",
    "\n",
    "**1.**  Load the Iris dataset"
   ]
  },
  {
   "cell_type": "code",
   "execution_count": 1,
   "id": "df9f4a90-f934-4344-9501-6dc5e6fdc003",
   "metadata": {},
   "outputs": [],
   "source": [
    "import numpy as np"
   ]
  },
  {
   "cell_type": "code",
   "execution_count": 2,
   "id": "6bc3ef0f-1110-4208-8c0a-37e62ab50596",
   "metadata": {},
   "outputs": [
    {
     "data": {
      "text/plain": [
       "array([['5.1', '3.5', '1.4', '0.2', 'Iris-setosa'],\n",
       "       ['4.9', '3.0', '1.4', '0.2', 'Iris-setosa'],\n",
       "       ['4.7', '3.2', '1.3', '0.2', 'Iris-setosa']], dtype='<U15')"
      ]
     },
     "execution_count": 2,
     "metadata": {},
     "output_type": "execute_result"
    }
   ],
   "source": [
    "datalist = []\n",
    "with open(\"iris.data\",\"r\") as iris:\n",
    "    for row in iris:\n",
    "        datalist.append(row.strip().split(\",\"))\n",
    "    datalist.pop()\n",
    "\"\"\"\n",
    "Info: you can use the pandas.read_csv method to easily parse and store the \n",
    "dataset into a pandas DataFrame. It applies for both locally stored data \n",
    "and remote files:\n",
    "\n",
    "df = pd.read_csv(\n",
    "\"https://archive.ics.uci.edu/ml/machine-learning-databases/iris/iris.data\",\n",
    "header=None,\n",
    ")\n",
    "\"\"\"\n",
    "data = np.array(datalist)\n",
    "data[:3]"
   ]
  },
  {
   "cell_type": "markdown",
   "id": "4ce437e0-93c5-41cd-a1c6-84ff9f074ebe",
   "metadata": {},
   "source": [
    "**2.** Let’s identify a portion of our data for which we will try to guess the species. Randomly select 20% of the records and store the first four columns (i.e. the features representing each flower) into a two-dimensional numpy array of shape N × C, you can call it X_test. For the same records, store the last column (i.e. the one with the species values) into another array, namely y_test. This is the data that will be used to test the accuracy of your KNN implementation and its correct functioning (i.e. the testing data)."
   ]
  },
  {
   "cell_type": "code",
   "execution_count": 3,
   "id": "4260269d-4c4c-4627-ba0d-a40458e7bd2f",
   "metadata": {},
   "outputs": [],
   "source": [
    "testlenght = int(len(data)/5)\n",
    "np.random.shuffle(data)\n",
    "g_test = data[:testlenght]\n",
    "X_test = g_test[:,:4].astype('float64')\n",
    "y_test = g_test[:,4]"
   ]
  },
  {
   "cell_type": "markdown",
   "id": "e39bcb9e-e687-444d-b2b4-d1971cb58dfe",
   "metadata": {
    "tags": []
   },
   "source": [
    "**3.** Store the remaining 80% of the records in the same way. In this case, use the names X_train and y_train for the arrays. This is the data that your model will use as ground-truth knowledge (i.e. the training data)."
   ]
  },
  {
   "cell_type": "code",
   "execution_count": 4,
   "id": "a65cdca8-183b-4015-84f8-ecf84338d50e",
   "metadata": {},
   "outputs": [],
   "source": [
    "g_train = data[testlenght:]\n",
    "X_train = g_train[:,:4].astype('float64')\n",
    "y_train = g_train[:,4]"
   ]
  },
  {
   "cell_type": "markdown",
   "id": "b6a24ae5-381d-41df-a1f6-5adde6983a59",
   "metadata": {},
   "source": [
    "**4.** Focus now on the KNN technique. Implement the KNN algorithm and expose it as a Python class. To identify the K closest points, or neighbors, a notion of distance is required. Your implementation must support three different distance definitions.\n",
    "\n",
    "Given two n-dimensional points p = (p1, p2, . . . , pn) and q = (q1, q2, . . . , qn), you should calculate _euclidean_, _cosine_, and _manhattan_ distances. Write three functions that use NumPy to compute the respective distance\n",
    "\n",
    "Implement the predict method. The function receives as input a numpy array with N rows and C columns, corresponding to N flowers. The method assigns one of the three Iris species to each row 3 using the KNN algorithm, and returns them as a numpy array. For the actual implementation, apply the identify K neighbors using the distance specified by the parameters k and distance passed to the constructor.\n",
    "Then, assign the label using a majority voting scheme. 2 If K is even, assign the label arbitrarily"
   ]
  },
  {
   "cell_type": "code",
   "execution_count": 5,
   "id": "f76162d0-c5d8-4304-b773-769eef5500b4",
   "metadata": {},
   "outputs": [],
   "source": [
    "class KNearestNeighbors:\n",
    "    def __init__(self, k, distance_metric=\"euclidean\"):\n",
    "        self.k = k\n",
    "        self.distance_metric = distance_metric\n",
    "        \n",
    "    def fit(self,X,y):\n",
    "        self.train_x = X\n",
    "        self.len2 = len(self.train_x) \n",
    "        self.train_y = y\n",
    "    \n",
    "    def euclidean(self):\n",
    "        eudist = np.zeros((self.len1,self.len2))\n",
    "        c = 0\n",
    "        for x in self.test_x:\n",
    "            eudist[c] = ( ( (self.train_x - x)**2).sum(axis=1))**0.5\n",
    "            c +=1\n",
    "        return eudist\n",
    "    \n",
    "    def cosine(self):\n",
    "        cosinedist = np.zeros((self.len1,self.len2))\n",
    "        c = 0\n",
    "        for x in self.test_x:\n",
    "            cs_n = (self.train_x*x).sum(axis=1)\n",
    "            cs_d = (((self.train_x**2).sum(axis=1))**.5) * (((x**2).sum())**.5)\n",
    "            cosinedist[c] = 1 - cs_n/cs_d\n",
    "            c += 1\n",
    "        return cosinedist\n",
    "    \n",
    "    def manhattan(self):\n",
    "        manhdist = np.zeros((self.len1,self.len2))\n",
    "        c = 0\n",
    "        for x in self.test_x:\n",
    "            manhdist[c] = abs(self.train_x-x).sum(axis=1)\n",
    "            c+=1\n",
    "        return manhdist\n",
    "            \n",
    "    def predict(self,X):\n",
    "        self.test_x = X\n",
    "        self.len1 = len(self.test_x)\n",
    "        if self.distance_metric == \"euclidean\":\n",
    "            self.dist = self.euclidean()\n",
    "        elif self.distance_metric == \"cosine\":\n",
    "            self.dist = self.cosine()\n",
    "        elif self.distance_metric == \"manhattan\":\n",
    "            self.dist = self.manhattan()\n",
    "        self.prediction = []\n",
    "        for i in range(self.len1):\n",
    "            indices = self.dist[i].argsort()[:self.k]\n",
    "            votes = {i:self.train_y[indices].tolist().count(i) for i in self.train_y[indices]}\n",
    "            self.prediction.append(max(votes, key=votes.get))\n",
    "        return np.array(self.prediction)"
   ]
  },
  {
   "cell_type": "markdown",
   "id": "7d54b089-2a36-472a-b6cb-35bec76e1fc4",
   "metadata": {},
   "source": [
    "**5.** Try to use your KNN model to predict the species for each record in X_test and store them in a nupy array called y_pred.\n",
    "\n",
    "Check how many Iris species in the array y_pred have been guessed correctly with respect to the ones in y_test. A prediction is correct if y_pred[i] == y_test[i]. The ratio between the number of correct guesses and the total number of guesses is known as accuracy. If all labels are assigned correctly ((y_pred == y_test).all() == True), the accuracy of the model is 100%. Instead, if none of the guessed species corresponds to the real one ((y_pred == y_test).any() == False), the accuracy is 0%.\n"
   ]
  },
  {
   "cell_type": "code",
   "execution_count": 6,
   "id": "cf60322c-5a92-404e-b7ab-7b22f395168a",
   "metadata": {},
   "outputs": [],
   "source": [
    "#euclidean\n",
    "knn1 = KNearestNeighbors(2,distance_metric=\"euclidean\")\n",
    "knn1.fit(X_train,y_train)\n",
    "r1 = knn1.predict(X_test)\n",
    "#cosine\n",
    "knn2 = KNearestNeighbors(2,distance_metric=\"cosine\")\n",
    "knn2.fit(X_train,y_train)\n",
    "r2 = knn2.predict(X_test)\n",
    "#manhattan\n",
    "knn3 = KNearestNeighbors(2,distance_metric=\"manhattan\")\n",
    "knn3.fit(X_train,y_train)\n",
    "r3 = knn3.predict(X_test)"
   ]
  },
  {
   "cell_type": "code",
   "execution_count": 7,
   "id": "13af8ce7-b788-41a9-8c60-fedc88712b99",
   "metadata": {
    "tags": []
   },
   "outputs": [
    {
     "name": "stdout",
     "output_type": "stream",
     "text": [
      "False\n",
      "False\n",
      "False\n",
      "False\n",
      "False\n",
      "False\n",
      "------------------------------\n",
      "Euclidean accuracy: 0.9\n",
      "Cosine accuracy: 0.967\n",
      "Manhattan accuracy: 0.9\n"
     ]
    }
   ],
   "source": [
    "# 0% accuracy test\n",
    "print(((r1 == y_test).any() == False)) #model accuracy is not 0%\n",
    "print(((r2 == y_test).any() == False)) #model accuracy is not 0%\n",
    "print(((r3 == y_test).any() == False)) #model accuracy is not 0%\n",
    "# 100% accuracy test\n",
    "print(((r1 == y_test).all() == True)) #model accuracy is not 100%\n",
    "print(((r2 == y_test).all() == True)) #model accuracy is 100%\n",
    "print(((r3 == y_test).all() == True)) #model accuracy is not 100%\n",
    "# accuracy calculation\n",
    "print(\"------------------------------\")\n",
    "print(f\"Euclidean accuracy: {round((r1==y_test).sum()/len(y_test),3)}\")\n",
    "print(f\"Cosine accuracy: {round((r2==y_test).sum()/len(y_test),3)}\")\n",
    "print(f\"Manhattan accuracy: {round((r3==y_test).sum()/len(y_test),3)}\")"
   ]
  }
 ],
 "metadata": {
  "kernelspec": {
   "display_name": "Python 3 (ipykernel)",
   "language": "python",
   "name": "python3"
  },
  "language_info": {
   "codemirror_mode": {
    "name": "ipython",
    "version": 3
   },
   "file_extension": ".py",
   "mimetype": "text/x-python",
   "name": "python",
   "nbconvert_exporter": "python",
   "pygments_lexer": "ipython3",
   "version": "3.9.7"
  }
 },
 "nbformat": 4,
 "nbformat_minor": 5
}
