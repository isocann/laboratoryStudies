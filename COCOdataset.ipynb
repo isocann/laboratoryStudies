{
 "cells": [
  {
   "cell_type": "markdown",
   "id": "b1c1bc99-6a77-4229-9f06-3675c546ac49",
   "metadata": {
    "tags": []
   },
   "source": [
    "## 2.COCO Dataset\n",
    "### 2.1. Dataset download\n",
    "\n",
    "COCO Dataset is a large-scale object detection, segmentation, and captioning dataset. It offers a large number of images (from various contexts) with annotations (i.e. structured information on the contents of the image). These annotations, in particular, regard the contents of the image and, in particular, the objects contained within.\n",
    "\n",
    "You can download a filtered and preprocessed version of COCO (which we will refer to as “modified”) from the following URL:\n",
    "https://raw.githubusercontent.com/dbdmg/data-science-lab/master/datasets/modified_coco.json\n",
    "\n",
    "This dataset is a JSON file. You can open it using the already introduced json module. The file contains a list of images and, for each image, the annotation key contains all the annotations available. The following are the annotations for one such image.\n",
    "\n",
    "{\n",
    "\n",
    "\"file_name\": \"000000465265.png\",\n",
    "\n",
    "\"image_id\": 465265,\n",
    "\n",
    "\"annotations\": [\n",
    "\n",
    "\"person\",\n",
    "\n",
    "\"person\",\n",
    "\n",
    "\"person\",\n",
    "\n",
    "\"fire hydrant\",\n",
    "\n",
    "\"handbag\",\n",
    "\n",
    "\"chair\",\n",
    "\n",
    "\"cell phone\"]\n",
    "\n",
    "}\n",
    "\n",
    "This means that the image contains 3 people, a fire hydrant, a handbag, a chair and a cell phone.\n"
   ]
  },
  {
   "cell_type": "markdown",
   "id": "c2c2255c-0578-4554-b7d1-91280687f588",
   "metadata": {},
   "source": [
    "### 2.2. Exercises"
   ]
  },
  {
   "cell_type": "markdown",
   "id": "4946b169-b5c2-493e-9fea-eb2d9f911207",
   "metadata": {
    "tags": []
   },
   "source": [
    "**1.** Implement your own version of Apriori You can use the below toy dataset for initial troubleshooting and testing.\n",
    "\n",
    "- a,b\n",
    "- b,c,d \n",
    "- a,c,d,e\n",
    "- a,d,e\n",
    "- a,b,c\n",
    "- a,b,c,d\n",
    "- b,c\n",
    "- a,b,c\n",
    "- a,b,d\n",
    "- b,c,e\n",
    "\n",
    "When run with minsup > 1 (or 0.1 in relative terms), the expected itemset (with their minsups) are:\n",
    "\n",
    "- a -> 7,\n",
    "- b -> 8,\n",
    "- c -> 7,\n",
    "- d -> 5,\n",
    "- e -> 3,\n",
    "- a,b -> 5,\n",
    "- a,c -> 4, \n",
    "- a,d -> 4,\n",
    "- a,e -> 2,\n",
    "- b,c -> 6,\n",
    "- b,d -> 3,\n",
    "- c,d -> 3,\n",
    "- c,e -> 2,\n",
    "- d,e -> 2,\n",
    "- a,b,c -> 3,\n",
    "- a,b,d -> 2,\n",
    "- a,c,d -> 2,\n",
    "- a,d,e -> 2,\n",
    "- b,c,d -> 2"
   ]
  },
  {
   "cell_type": "code",
   "execution_count": 1,
   "id": "f2c5fcfc-3d20-42c7-bf7b-dd7b60f01c20",
   "metadata": {},
   "outputs": [],
   "source": [
    "toy = [[\"a\",\"b\"],[\"b\",\"c\",\"d\"],[\"a\",\"c\",\"d\",\"e\"],\n",
    "       [\"a\",\"d\",\"e\"],[\"a\",\"b\",\"c\"],[\"a\",\"b\",\"c\",\"d\"],\n",
    "       [\"b\",\"c\"],[\"a\",\"b\",\"c\"],[\"a\",\"b\",\"d\"],[\"b\",\"c\",\"e\"]]"
   ]
  },
  {
   "cell_type": "code",
   "execution_count": 18,
   "id": "46e2d62a-1985-42fa-ae70-39ed74f1ef1a",
   "metadata": {},
   "outputs": [],
   "source": [
    "from itertools import combinations\n",
    "class Apriori:\n",
    "    \n",
    "    def __init__(self, dataset):\n",
    "        self.ds = dataset\n",
    "        \n",
    "    def comb_n(self,n):\n",
    "        a = set()\n",
    "        for i in self.ds:\n",
    "            a.update(i)\n",
    "        if n==1:\n",
    "            return sorted(list(a))\n",
    "        else:\n",
    "            return sorted(list(sorted(list(a)) for a in combinations(a,n)))\n",
    "    \n",
    "    def itemsets(self, n, minsup):\n",
    "        candidates = {}\n",
    "        for i in self.comb_n(n):\n",
    "            c=0\n",
    "            if n>1:\n",
    "                for y in self.ds:\n",
    "                    c += int(all(a in y for a in i))\n",
    "            else:\n",
    "                for y in self.ds:\n",
    "                    if i in y:\n",
    "                        c += 1\n",
    "            if c>minsup:\n",
    "                if n>1:\n",
    "                    candidates[tuple(i)] = c\n",
    "                else:\n",
    "                    candidates[i] = c\n",
    "        if len(candidates)>1:\n",
    "            return candidates\n",
    "        else:\n",
    "            print(f\"There is no itemset with {n} elements that satisfy minsup={minsup} condition\")\n",
    "            return None"
   ]
  },
  {
   "cell_type": "code",
   "execution_count": 5,
   "id": "83bd6d95-ed71-4e7d-865c-51fc43d31f6b",
   "metadata": {
    "tags": []
   },
   "outputs": [
    {
     "name": "stdout",
     "output_type": "stream",
     "text": [
      "a -> 7\n",
      "b -> 8\n",
      "c -> 7\n",
      "d -> 5\n",
      "e -> 3\n",
      "---------------------------\n",
      "('a', 'b') -> 5\n",
      "('a', 'c') -> 4\n",
      "('a', 'd') -> 4\n",
      "('a', 'e') -> 2\n",
      "('b', 'c') -> 6\n",
      "('b', 'd') -> 3\n",
      "('c', 'd') -> 3\n",
      "('c', 'e') -> 2\n",
      "('d', 'e') -> 2\n",
      "---------------------------\n",
      "('a', 'b', 'c') -> 3\n",
      "('a', 'b', 'd') -> 2\n",
      "('a', 'c', 'd') -> 2\n",
      "('a', 'd', 'e') -> 2\n",
      "('b', 'c', 'd') -> 2\n",
      "---------------------------\n",
      "There is no itemset with 4 elements that satisfy minsup=1 condition\n"
     ]
    }
   ],
   "source": [
    "maxlen = max(len(a) for a in toy)\n",
    "start = 1\n",
    "condition = \"-\"\n",
    "alg = Apriori(toy)\n",
    "while (condition != None) and (start<=maxlen):\n",
    "    if alg.itemsets(start,1) != None:\n",
    "        for a,b in alg.itemsets(start,1).items():\n",
    "            print(a,\"->\",b)\n",
    "        print(\"---------------------------\")\n",
    "    start +=1"
   ]
  },
  {
   "cell_type": "markdown",
   "id": "acbab39d-7d3b-4fa7-a441-f31d931393bc",
   "metadata": {
    "tags": []
   },
   "source": [
    "**2.** Once you have implemented a working version of Apriori, you can load the modified COCO dataset from Subsection 1.2.2 into memory. From this, you should transform the dataset into a version compatible with the expected input of your Apriori implementation."
   ]
  },
  {
   "cell_type": "code",
   "execution_count": 19,
   "id": "c4cefe03-6970-49a4-94b7-066bfcfc9570",
   "metadata": {},
   "outputs": [],
   "source": [
    "import json"
   ]
  },
  {
   "cell_type": "code",
   "execution_count": 20,
   "id": "0c628cf5-6b91-471f-9406-6beb16e54ae9",
   "metadata": {
    "tags": []
   },
   "outputs": [
    {
     "data": {
      "text/plain": [
       "[['car', 'stop sign', 'train'],\n",
       " ['bench', 'chair', 'dining table', 'person', 'potted plant'],\n",
       " ['stop sign'],\n",
       " ['fire hydrant', 'person'],\n",
       " ['bicycle', 'fire hydrant']]"
      ]
     },
     "execution_count": 20,
     "metadata": {},
     "output_type": "execute_result"
    }
   ],
   "source": [
    "with open(\"coco.json\",\"r\") as file:\n",
    "    obj = json.load(file)\n",
    "    l = []\n",
    "    for i in obj:\n",
    "        l.append(sorted(list(set(i['annotations']))))\n",
    "l[:5]"
   ]
  },
  {
   "cell_type": "markdown",
   "id": "22091266-7eac-4f23-b131-0ef2fd60611e",
   "metadata": {},
   "source": [
    "**3.** You can now run your implementation on the modified COCO dataset"
   ]
  },
  {
   "cell_type": "code",
   "execution_count": 23,
   "id": "468508d8-1cd0-4848-8524-d602a3ba063f",
   "metadata": {
    "tags": []
   },
   "outputs": [
    {
     "name": "stdout",
     "output_type": "stream",
     "text": [
      "backpack -> 426\n",
      "baseball bat -> 167\n",
      "baseball glove -> 150\n",
      "bench -> 2169\n",
      "bicycle -> 381\n",
      "bottle -> 140\n",
      "bus -> 456\n",
      "car -> 1852\n",
      "cell phone -> 177\n",
      "chair -> 301\n",
      "clock -> 166\n",
      "cup -> 111\n",
      "dining table -> 193\n",
      "dog -> 138\n",
      "fire hydrant -> 673\n",
      "handbag -> 615\n",
      "motorcycle -> 205\n",
      "parking meter -> 277\n",
      "person -> 2943\n",
      "potted plant -> 209\n",
      "skateboard -> 172\n",
      "sports ball -> 184\n",
      "stop sign -> 666\n",
      "suitcase -> 101\n",
      "tennis racket -> 107\n",
      "traffic light -> 1615\n",
      "train -> 246\n",
      "truck -> 643\n",
      "umbrella -> 237\n",
      "---------------------------\n"
     ]
    }
   ],
   "source": [
    "maxlen = 1 #max(len(a) for a in l) -- to have all possible subsets\n",
    "start = 1\n",
    "condition = \"-\"\n",
    "coco = Apriori(l)\n",
    "while (condition != None) and (start<=maxlen):\n",
    "    if coco.itemsets(start,100) != None:\n",
    "        for a,b in coco.itemsets(start,100).items():\n",
    "            print(a,\"->\",b)\n",
    "        print(\"---------------------------\")\n",
    "    start +=1"
   ]
  }
 ],
 "metadata": {
  "kernelspec": {
   "display_name": "Python 3 (ipykernel)",
   "language": "python",
   "name": "python3"
  },
  "language_info": {
   "codemirror_mode": {
    "name": "ipython",
    "version": 3
   },
   "file_extension": ".py",
   "mimetype": "text/x-python",
   "name": "python",
   "nbconvert_exporter": "python",
   "pygments_lexer": "ipython3",
   "version": "3.9.7"
  }
 },
 "nbformat": 4,
 "nbformat_minor": 5
}
